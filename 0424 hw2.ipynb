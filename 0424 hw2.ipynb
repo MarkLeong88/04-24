{
 "cells": [
  {
   "cell_type": "code",
   "execution_count": 1,
   "metadata": {},
   "outputs": [
    {
     "name": "stdout",
     "output_type": "stream",
     "text": [
      "54\n",
      "好笨猜不到\n",
      "3\n",
      "好笨猜不到\n",
      "4\n",
      "好笨猜不到\n",
      "8\n",
      "猜對了\n"
     ]
    }
   ],
   "source": [
    "while True:\n",
    "    x = input()\n",
    "    if x == \"8\":\n",
    "        print('猜對了')\n",
    "        break\n",
    "    if x == \"q\":\n",
    "        break\n",
    "    else:\n",
    "        print(\"好笨猜不到\")\n",
    "        \n",
    "    \n",
    "    \n"
   ]
  },
  {
   "cell_type": "code",
   "execution_count": null,
   "metadata": {},
   "outputs": [],
   "source": [
    "\n"
   ]
  },
  {
   "cell_type": "code",
   "execution_count": null,
   "metadata": {},
   "outputs": [],
   "source": []
  },
  {
   "cell_type": "code",
   "execution_count": null,
   "metadata": {},
   "outputs": [],
   "source": []
  }
 ],
 "metadata": {
  "kernelspec": {
   "display_name": "Python 3",
   "language": "python",
   "name": "python3"
  },
  "language_info": {
   "codemirror_mode": {
    "name": "ipython",
    "version": 3
   },
   "file_extension": ".py",
   "mimetype": "text/x-python",
   "name": "python",
   "nbconvert_exporter": "python",
   "pygments_lexer": "ipython3",
   "version": "3.7.1"
  }
 },
 "nbformat": 4,
 "nbformat_minor": 2
}
